{
 "cells": [
  {
   "cell_type": "code",
   "execution_count": 1,
   "id": "c7d59873",
   "metadata": {
    "_cell_guid": "b1076dfc-b9ad-4769-8c92-a6c4dae69d19",
    "_uuid": "8f2839f25d086af736a60e9eeb907d3b93b6e0e5",
    "execution": {
     "iopub.execute_input": "2023-01-06T14:38:06.799817Z",
     "iopub.status.busy": "2023-01-06T14:38:06.799304Z",
     "iopub.status.idle": "2023-01-06T14:38:06.819568Z",
     "shell.execute_reply": "2023-01-06T14:38:06.818690Z"
    },
    "papermill": {
     "duration": 0.033904,
     "end_time": "2023-01-06T14:38:06.823006",
     "exception": false,
     "start_time": "2023-01-06T14:38:06.789102",
     "status": "completed"
    },
    "tags": []
   },
   "outputs": [
    {
     "name": "stdout",
     "output_type": "stream",
     "text": [
      "/kaggle/input/heart-disease-dataset/heart.csv\n"
     ]
    }
   ],
   "source": [
    "# This Python 3 environment comes with many helpful analytics libraries installed\n",
    "# It is defined by the kaggle/python Docker image: https://github.com/kaggle/docker-python\n",
    "# For example, here's several helpful packages to load\n",
    "\n",
    "import numpy as np # linear algebra\n",
    "import pandas as pd # data processing, CSV file I/O (e.g. pd.read_csv)\n",
    "\n",
    "# Input data files are available in the read-only \"../input/\" directory\n",
    "# For example, running this (by clicking run or pressing Shift+Enter) will list all files under the input directory\n",
    "\n",
    "import os\n",
    "for dirname, _, filenames in os.walk('/kaggle/input'):\n",
    "    for filename in filenames:\n",
    "        print(os.path.join(dirname, filename))\n",
    "\n",
    "# You can write up to 20GB to the current directory (/kaggle/working/) that gets preserved as output when you create a version using \"Save & Run All\" \n",
    "# You can also write temporary files to /kaggle/temp/, but they won't be saved outside of the current session"
   ]
  },
  {
   "cell_type": "code",
   "execution_count": null,
   "id": "059c8ea0",
   "metadata": {
    "papermill": {
     "duration": 0.007034,
     "end_time": "2023-01-06T14:38:06.838596",
     "exception": false,
     "start_time": "2023-01-06T14:38:06.831562",
     "status": "completed"
    },
    "tags": []
   },
   "outputs": [],
   "source": []
  },
  {
   "cell_type": "markdown",
   "id": "28ea4ad2",
   "metadata": {
    "papermill": {
     "duration": 0.006867,
     "end_time": "2023-01-06T14:38:06.852798",
     "exception": false,
     "start_time": "2023-01-06T14:38:06.845931",
     "status": "completed"
    },
    "tags": []
   },
   "source": [
    "**Import Necessary Libraries**"
   ]
  },
  {
   "cell_type": "code",
   "execution_count": 2,
   "id": "4dee6490",
   "metadata": {
    "execution": {
     "iopub.execute_input": "2023-01-06T14:38:06.869786Z",
     "iopub.status.busy": "2023-01-06T14:38:06.869208Z",
     "iopub.status.idle": "2023-01-06T14:38:10.003586Z",
     "shell.execute_reply": "2023-01-06T14:38:10.002368Z"
    },
    "papermill": {
     "duration": 3.146374,
     "end_time": "2023-01-06T14:38:10.006396",
     "exception": false,
     "start_time": "2023-01-06T14:38:06.860022",
     "status": "completed"
    },
    "tags": []
   },
   "outputs": [],
   "source": [
    "# extra imports\n",
    "import seaborn as sns # import for statistical graphics\n",
    "import matplotlib.pyplot as plt # import module for matlab-like plotting\n",
    "import plotly.express as px # import module for creating figures at once\n",
    "\n",
    "# import scikit-learn library for machine learning and predictive data analysis\n",
    "from sklearn.model_selection import train_test_split\n",
    "from sklearn.metrics import accuracy_score, confusion_matrix, classification_report\n",
    "from sklearn.neighbors import KNeighborsClassifier\n",
    "from sklearn.tree import DecisionTreeClassifier\n",
    "from sklearn.ensemble import ExtraTreesClassifier\n",
    "from sklearn.inspection import permutation_importance\n",
    "from sklearn.datasets import make_classification\n",
    "from xgboost import XGBClassifier"
   ]
  },
  {
   "cell_type": "markdown",
   "id": "66973cbc",
   "metadata": {
    "papermill": {
     "duration": 0.007344,
     "end_time": "2023-01-06T14:38:10.023110",
     "exception": false,
     "start_time": "2023-01-06T14:38:10.015766",
     "status": "completed"
    },
    "tags": []
   },
   "source": [
    "**Dataset Info**"
   ]
  },
  {
   "cell_type": "code",
   "execution_count": 3,
   "id": "4c9e7668",
   "metadata": {
    "execution": {
     "iopub.execute_input": "2023-01-06T14:38:10.042685Z",
     "iopub.status.busy": "2023-01-06T14:38:10.041841Z",
     "iopub.status.idle": "2023-01-06T14:38:10.068084Z",
     "shell.execute_reply": "2023-01-06T14:38:10.066749Z"
    },
    "papermill": {
     "duration": 0.038639,
     "end_time": "2023-01-06T14:38:10.070990",
     "exception": false,
     "start_time": "2023-01-06T14:38:10.032351",
     "status": "completed"
    },
    "tags": []
   },
   "outputs": [],
   "source": [
    "# import dataset https://www.kaggle.com/datasets/johnsmith88/heart-disease-dataset?select=heart.csv\n",
    "df=pd.read_csv('../input/heart-disease-dataset/heart.csv') # import dataset file"
   ]
  },
  {
   "cell_type": "code",
   "execution_count": 4,
   "id": "8f73e644",
   "metadata": {
    "execution": {
     "iopub.execute_input": "2023-01-06T14:38:10.088405Z",
     "iopub.status.busy": "2023-01-06T14:38:10.087994Z",
     "iopub.status.idle": "2023-01-06T14:38:10.113657Z",
     "shell.execute_reply": "2023-01-06T14:38:10.112111Z"
    },
    "papermill": {
     "duration": 0.037719,
     "end_time": "2023-01-06T14:38:10.116764",
     "exception": false,
     "start_time": "2023-01-06T14:38:10.079045",
     "status": "completed"
    },
    "tags": []
   },
   "outputs": [
    {
     "data": {
      "text/html": [
       "<div>\n",
       "<style scoped>\n",
       "    .dataframe tbody tr th:only-of-type {\n",
       "        vertical-align: middle;\n",
       "    }\n",
       "\n",
       "    .dataframe tbody tr th {\n",
       "        vertical-align: top;\n",
       "    }\n",
       "\n",
       "    .dataframe thead th {\n",
       "        text-align: right;\n",
       "    }\n",
       "</style>\n",
       "<table border=\"1\" class=\"dataframe\">\n",
       "  <thead>\n",
       "    <tr style=\"text-align: right;\">\n",
       "      <th></th>\n",
       "      <th>age</th>\n",
       "      <th>sex</th>\n",
       "      <th>cp</th>\n",
       "      <th>trestbps</th>\n",
       "      <th>chol</th>\n",
       "      <th>fbs</th>\n",
       "      <th>restecg</th>\n",
       "      <th>thalach</th>\n",
       "      <th>exang</th>\n",
       "      <th>oldpeak</th>\n",
       "      <th>slope</th>\n",
       "      <th>ca</th>\n",
       "      <th>thal</th>\n",
       "      <th>target</th>\n",
       "    </tr>\n",
       "  </thead>\n",
       "  <tbody>\n",
       "    <tr>\n",
       "      <th>0</th>\n",
       "      <td>52</td>\n",
       "      <td>1</td>\n",
       "      <td>0</td>\n",
       "      <td>125</td>\n",
       "      <td>212</td>\n",
       "      <td>0</td>\n",
       "      <td>1</td>\n",
       "      <td>168</td>\n",
       "      <td>0</td>\n",
       "      <td>1.0</td>\n",
       "      <td>2</td>\n",
       "      <td>2</td>\n",
       "      <td>3</td>\n",
       "      <td>0</td>\n",
       "    </tr>\n",
       "    <tr>\n",
       "      <th>1</th>\n",
       "      <td>53</td>\n",
       "      <td>1</td>\n",
       "      <td>0</td>\n",
       "      <td>140</td>\n",
       "      <td>203</td>\n",
       "      <td>1</td>\n",
       "      <td>0</td>\n",
       "      <td>155</td>\n",
       "      <td>1</td>\n",
       "      <td>3.1</td>\n",
       "      <td>0</td>\n",
       "      <td>0</td>\n",
       "      <td>3</td>\n",
       "      <td>0</td>\n",
       "    </tr>\n",
       "    <tr>\n",
       "      <th>2</th>\n",
       "      <td>70</td>\n",
       "      <td>1</td>\n",
       "      <td>0</td>\n",
       "      <td>145</td>\n",
       "      <td>174</td>\n",
       "      <td>0</td>\n",
       "      <td>1</td>\n",
       "      <td>125</td>\n",
       "      <td>1</td>\n",
       "      <td>2.6</td>\n",
       "      <td>0</td>\n",
       "      <td>0</td>\n",
       "      <td>3</td>\n",
       "      <td>0</td>\n",
       "    </tr>\n",
       "    <tr>\n",
       "      <th>3</th>\n",
       "      <td>61</td>\n",
       "      <td>1</td>\n",
       "      <td>0</td>\n",
       "      <td>148</td>\n",
       "      <td>203</td>\n",
       "      <td>0</td>\n",
       "      <td>1</td>\n",
       "      <td>161</td>\n",
       "      <td>0</td>\n",
       "      <td>0.0</td>\n",
       "      <td>2</td>\n",
       "      <td>1</td>\n",
       "      <td>3</td>\n",
       "      <td>0</td>\n",
       "    </tr>\n",
       "    <tr>\n",
       "      <th>4</th>\n",
       "      <td>62</td>\n",
       "      <td>0</td>\n",
       "      <td>0</td>\n",
       "      <td>138</td>\n",
       "      <td>294</td>\n",
       "      <td>1</td>\n",
       "      <td>1</td>\n",
       "      <td>106</td>\n",
       "      <td>0</td>\n",
       "      <td>1.9</td>\n",
       "      <td>1</td>\n",
       "      <td>3</td>\n",
       "      <td>2</td>\n",
       "      <td>0</td>\n",
       "    </tr>\n",
       "  </tbody>\n",
       "</table>\n",
       "</div>"
      ],
      "text/plain": [
       "   age  sex  cp  trestbps  chol  fbs  restecg  thalach  exang  oldpeak  slope  \\\n",
       "0   52    1   0       125   212    0        1      168      0      1.0      2   \n",
       "1   53    1   0       140   203    1        0      155      1      3.1      0   \n",
       "2   70    1   0       145   174    0        1      125      1      2.6      0   \n",
       "3   61    1   0       148   203    0        1      161      0      0.0      2   \n",
       "4   62    0   0       138   294    1        1      106      0      1.9      1   \n",
       "\n",
       "   ca  thal  target  \n",
       "0   2     3       0  \n",
       "1   0     3       0  \n",
       "2   0     3       0  \n",
       "3   1     3       0  \n",
       "4   3     2       0  "
      ]
     },
     "execution_count": 4,
     "metadata": {},
     "output_type": "execute_result"
    }
   ],
   "source": [
    "\"\"\"\"\"DataFrame Column Names\n",
    "1. age\n",
    "2. sex\n",
    "3. chest pain type (4 values)\n",
    "4. resting blood pressure\n",
    "5. serum cholestoral in mg/dl\n",
    "6. fasting blood sugar > 120 mg/dl\n",
    "7. resting electrocardiographic results (values 0,1,2)\n",
    "8. maximum heart rate achieved\n",
    "9. exercise induced angina\n",
    "10. oldpeak = ST depression induced by exercise relative to rest\n",
    "11. the slope of the peak exercise ST segment\n",
    "12. number of major vessels (0-3) colored by flourosopy\n",
    "13. thal: 0 = normal; 1 = fixed defect; 2 = reversable defect\n",
    "14. target: presence of heart disease in the patient. 0 = no disease and 1 = with disease.\n",
    "\"\"\"\"\"\n",
    "df.head() # show first 5 rows of data set"
   ]
  },
  {
   "cell_type": "code",
   "execution_count": 5,
   "id": "c31d0e09",
   "metadata": {
    "execution": {
     "iopub.execute_input": "2023-01-06T14:38:10.134960Z",
     "iopub.status.busy": "2023-01-06T14:38:10.133863Z",
     "iopub.status.idle": "2023-01-06T14:38:10.162225Z",
     "shell.execute_reply": "2023-01-06T14:38:10.160524Z"
    },
    "papermill": {
     "duration": 0.04049,
     "end_time": "2023-01-06T14:38:10.165312",
     "exception": false,
     "start_time": "2023-01-06T14:38:10.124822",
     "status": "completed"
    },
    "tags": []
   },
   "outputs": [
    {
     "name": "stdout",
     "output_type": "stream",
     "text": [
      "<class 'pandas.core.frame.DataFrame'>\n",
      "RangeIndex: 1025 entries, 0 to 1024\n",
      "Data columns (total 14 columns):\n",
      " #   Column    Non-Null Count  Dtype  \n",
      "---  ------    --------------  -----  \n",
      " 0   age       1025 non-null   int64  \n",
      " 1   sex       1025 non-null   int64  \n",
      " 2   cp        1025 non-null   int64  \n",
      " 3   trestbps  1025 non-null   int64  \n",
      " 4   chol      1025 non-null   int64  \n",
      " 5   fbs       1025 non-null   int64  \n",
      " 6   restecg   1025 non-null   int64  \n",
      " 7   thalach   1025 non-null   int64  \n",
      " 8   exang     1025 non-null   int64  \n",
      " 9   oldpeak   1025 non-null   float64\n",
      " 10  slope     1025 non-null   int64  \n",
      " 11  ca        1025 non-null   int64  \n",
      " 12  thal      1025 non-null   int64  \n",
      " 13  target    1025 non-null   int64  \n",
      "dtypes: float64(1), int64(13)\n",
      "memory usage: 112.2 KB\n"
     ]
    }
   ],
   "source": [
    "df.info() # prints info about dataframe"
   ]
  },
  {
   "cell_type": "markdown",
   "id": "9793cb1a",
   "metadata": {
    "papermill": {
     "duration": 0.007403,
     "end_time": "2023-01-06T14:38:10.180592",
     "exception": false,
     "start_time": "2023-01-06T14:38:10.173189",
     "status": "completed"
    },
    "tags": []
   },
   "source": [
    "**Exploratory Data Analysis (EDA)**"
   ]
  },
  {
   "cell_type": "code",
   "execution_count": 6,
   "id": "73d655f7",
   "metadata": {
    "execution": {
     "iopub.execute_input": "2023-01-06T14:38:10.198351Z",
     "iopub.status.busy": "2023-01-06T14:38:10.197583Z",
     "iopub.status.idle": "2023-01-06T14:38:10.207237Z",
     "shell.execute_reply": "2023-01-06T14:38:10.206182Z"
    },
    "papermill": {
     "duration": 0.021565,
     "end_time": "2023-01-06T14:38:10.209891",
     "exception": false,
     "start_time": "2023-01-06T14:38:10.188326",
     "status": "completed"
    },
    "tags": []
   },
   "outputs": [
    {
     "data": {
      "text/plain": [
       "age         0\n",
       "sex         0\n",
       "cp          0\n",
       "trestbps    0\n",
       "chol        0\n",
       "fbs         0\n",
       "restecg     0\n",
       "thalach     0\n",
       "exang       0\n",
       "oldpeak     0\n",
       "slope       0\n",
       "ca          0\n",
       "thal        0\n",
       "target      0\n",
       "dtype: int64"
      ]
     },
     "execution_count": 6,
     "metadata": {},
     "output_type": "execute_result"
    }
   ],
   "source": [
    "df.isnull().sum()"
   ]
  },
  {
   "cell_type": "code",
   "execution_count": 7,
   "id": "c09ab65f",
   "metadata": {
    "execution": {
     "iopub.execute_input": "2023-01-06T14:38:10.228237Z",
     "iopub.status.busy": "2023-01-06T14:38:10.227254Z",
     "iopub.status.idle": "2023-01-06T14:38:10.234419Z",
     "shell.execute_reply": "2023-01-06T14:38:10.233059Z"
    },
    "papermill": {
     "duration": 0.019287,
     "end_time": "2023-01-06T14:38:10.237106",
     "exception": false,
     "start_time": "2023-01-06T14:38:10.217819",
     "status": "completed"
    },
    "tags": []
   },
   "outputs": [
    {
     "data": {
      "text/plain": [
       "(1025, 14)"
      ]
     },
     "execution_count": 7,
     "metadata": {},
     "output_type": "execute_result"
    }
   ],
   "source": [
    "df.shape "
   ]
  },
  {
   "cell_type": "code",
   "execution_count": 8,
   "id": "7451da32",
   "metadata": {
    "execution": {
     "iopub.execute_input": "2023-01-06T14:38:10.254853Z",
     "iopub.status.busy": "2023-01-06T14:38:10.254405Z",
     "iopub.status.idle": "2023-01-06T14:38:10.312405Z",
     "shell.execute_reply": "2023-01-06T14:38:10.311126Z"
    },
    "papermill": {
     "duration": 0.070115,
     "end_time": "2023-01-06T14:38:10.315264",
     "exception": false,
     "start_time": "2023-01-06T14:38:10.245149",
     "status": "completed"
    },
    "tags": []
   },
   "outputs": [
    {
     "data": {
      "text/html": [
       "<div>\n",
       "<style scoped>\n",
       "    .dataframe tbody tr th:only-of-type {\n",
       "        vertical-align: middle;\n",
       "    }\n",
       "\n",
       "    .dataframe tbody tr th {\n",
       "        vertical-align: top;\n",
       "    }\n",
       "\n",
       "    .dataframe thead th {\n",
       "        text-align: right;\n",
       "    }\n",
       "</style>\n",
       "<table border=\"1\" class=\"dataframe\">\n",
       "  <thead>\n",
       "    <tr style=\"text-align: right;\">\n",
       "      <th></th>\n",
       "      <th>count</th>\n",
       "      <th>mean</th>\n",
       "      <th>std</th>\n",
       "      <th>min</th>\n",
       "      <th>25%</th>\n",
       "      <th>50%</th>\n",
       "      <th>75%</th>\n",
       "      <th>max</th>\n",
       "    </tr>\n",
       "  </thead>\n",
       "  <tbody>\n",
       "    <tr>\n",
       "      <th>age</th>\n",
       "      <td>1025.0</td>\n",
       "      <td>54.434146</td>\n",
       "      <td>9.072290</td>\n",
       "      <td>29.0</td>\n",
       "      <td>48.0</td>\n",
       "      <td>56.0</td>\n",
       "      <td>61.0</td>\n",
       "      <td>77.0</td>\n",
       "    </tr>\n",
       "    <tr>\n",
       "      <th>sex</th>\n",
       "      <td>1025.0</td>\n",
       "      <td>0.695610</td>\n",
       "      <td>0.460373</td>\n",
       "      <td>0.0</td>\n",
       "      <td>0.0</td>\n",
       "      <td>1.0</td>\n",
       "      <td>1.0</td>\n",
       "      <td>1.0</td>\n",
       "    </tr>\n",
       "    <tr>\n",
       "      <th>cp</th>\n",
       "      <td>1025.0</td>\n",
       "      <td>0.942439</td>\n",
       "      <td>1.029641</td>\n",
       "      <td>0.0</td>\n",
       "      <td>0.0</td>\n",
       "      <td>1.0</td>\n",
       "      <td>2.0</td>\n",
       "      <td>3.0</td>\n",
       "    </tr>\n",
       "    <tr>\n",
       "      <th>trestbps</th>\n",
       "      <td>1025.0</td>\n",
       "      <td>131.611707</td>\n",
       "      <td>17.516718</td>\n",
       "      <td>94.0</td>\n",
       "      <td>120.0</td>\n",
       "      <td>130.0</td>\n",
       "      <td>140.0</td>\n",
       "      <td>200.0</td>\n",
       "    </tr>\n",
       "    <tr>\n",
       "      <th>chol</th>\n",
       "      <td>1025.0</td>\n",
       "      <td>246.000000</td>\n",
       "      <td>51.592510</td>\n",
       "      <td>126.0</td>\n",
       "      <td>211.0</td>\n",
       "      <td>240.0</td>\n",
       "      <td>275.0</td>\n",
       "      <td>564.0</td>\n",
       "    </tr>\n",
       "    <tr>\n",
       "      <th>fbs</th>\n",
       "      <td>1025.0</td>\n",
       "      <td>0.149268</td>\n",
       "      <td>0.356527</td>\n",
       "      <td>0.0</td>\n",
       "      <td>0.0</td>\n",
       "      <td>0.0</td>\n",
       "      <td>0.0</td>\n",
       "      <td>1.0</td>\n",
       "    </tr>\n",
       "    <tr>\n",
       "      <th>restecg</th>\n",
       "      <td>1025.0</td>\n",
       "      <td>0.529756</td>\n",
       "      <td>0.527878</td>\n",
       "      <td>0.0</td>\n",
       "      <td>0.0</td>\n",
       "      <td>1.0</td>\n",
       "      <td>1.0</td>\n",
       "      <td>2.0</td>\n",
       "    </tr>\n",
       "    <tr>\n",
       "      <th>thalach</th>\n",
       "      <td>1025.0</td>\n",
       "      <td>149.114146</td>\n",
       "      <td>23.005724</td>\n",
       "      <td>71.0</td>\n",
       "      <td>132.0</td>\n",
       "      <td>152.0</td>\n",
       "      <td>166.0</td>\n",
       "      <td>202.0</td>\n",
       "    </tr>\n",
       "    <tr>\n",
       "      <th>exang</th>\n",
       "      <td>1025.0</td>\n",
       "      <td>0.336585</td>\n",
       "      <td>0.472772</td>\n",
       "      <td>0.0</td>\n",
       "      <td>0.0</td>\n",
       "      <td>0.0</td>\n",
       "      <td>1.0</td>\n",
       "      <td>1.0</td>\n",
       "    </tr>\n",
       "    <tr>\n",
       "      <th>oldpeak</th>\n",
       "      <td>1025.0</td>\n",
       "      <td>1.071512</td>\n",
       "      <td>1.175053</td>\n",
       "      <td>0.0</td>\n",
       "      <td>0.0</td>\n",
       "      <td>0.8</td>\n",
       "      <td>1.8</td>\n",
       "      <td>6.2</td>\n",
       "    </tr>\n",
       "    <tr>\n",
       "      <th>slope</th>\n",
       "      <td>1025.0</td>\n",
       "      <td>1.385366</td>\n",
       "      <td>0.617755</td>\n",
       "      <td>0.0</td>\n",
       "      <td>1.0</td>\n",
       "      <td>1.0</td>\n",
       "      <td>2.0</td>\n",
       "      <td>2.0</td>\n",
       "    </tr>\n",
       "    <tr>\n",
       "      <th>ca</th>\n",
       "      <td>1025.0</td>\n",
       "      <td>0.754146</td>\n",
       "      <td>1.030798</td>\n",
       "      <td>0.0</td>\n",
       "      <td>0.0</td>\n",
       "      <td>0.0</td>\n",
       "      <td>1.0</td>\n",
       "      <td>4.0</td>\n",
       "    </tr>\n",
       "    <tr>\n",
       "      <th>thal</th>\n",
       "      <td>1025.0</td>\n",
       "      <td>2.323902</td>\n",
       "      <td>0.620660</td>\n",
       "      <td>0.0</td>\n",
       "      <td>2.0</td>\n",
       "      <td>2.0</td>\n",
       "      <td>3.0</td>\n",
       "      <td>3.0</td>\n",
       "    </tr>\n",
       "    <tr>\n",
       "      <th>target</th>\n",
       "      <td>1025.0</td>\n",
       "      <td>0.513171</td>\n",
       "      <td>0.500070</td>\n",
       "      <td>0.0</td>\n",
       "      <td>0.0</td>\n",
       "      <td>1.0</td>\n",
       "      <td>1.0</td>\n",
       "      <td>1.0</td>\n",
       "    </tr>\n",
       "  </tbody>\n",
       "</table>\n",
       "</div>"
      ],
      "text/plain": [
       "           count        mean        std    min    25%    50%    75%    max\n",
       "age       1025.0   54.434146   9.072290   29.0   48.0   56.0   61.0   77.0\n",
       "sex       1025.0    0.695610   0.460373    0.0    0.0    1.0    1.0    1.0\n",
       "cp        1025.0    0.942439   1.029641    0.0    0.0    1.0    2.0    3.0\n",
       "trestbps  1025.0  131.611707  17.516718   94.0  120.0  130.0  140.0  200.0\n",
       "chol      1025.0  246.000000  51.592510  126.0  211.0  240.0  275.0  564.0\n",
       "fbs       1025.0    0.149268   0.356527    0.0    0.0    0.0    0.0    1.0\n",
       "restecg   1025.0    0.529756   0.527878    0.0    0.0    1.0    1.0    2.0\n",
       "thalach   1025.0  149.114146  23.005724   71.0  132.0  152.0  166.0  202.0\n",
       "exang     1025.0    0.336585   0.472772    0.0    0.0    0.0    1.0    1.0\n",
       "oldpeak   1025.0    1.071512   1.175053    0.0    0.0    0.8    1.8    6.2\n",
       "slope     1025.0    1.385366   0.617755    0.0    1.0    1.0    2.0    2.0\n",
       "ca        1025.0    0.754146   1.030798    0.0    0.0    0.0    1.0    4.0\n",
       "thal      1025.0    2.323902   0.620660    0.0    2.0    2.0    3.0    3.0\n",
       "target    1025.0    0.513171   0.500070    0.0    0.0    1.0    1.0    1.0"
      ]
     },
     "execution_count": 8,
     "metadata": {},
     "output_type": "execute_result"
    }
   ],
   "source": [
    "df.describe().T "
   ]
  },
  {
   "cell_type": "code",
   "execution_count": 9,
   "id": "08d11bb8",
   "metadata": {
    "execution": {
     "iopub.execute_input": "2023-01-06T14:38:10.333481Z",
     "iopub.status.busy": "2023-01-06T14:38:10.333077Z",
     "iopub.status.idle": "2023-01-06T14:38:12.965241Z",
     "shell.execute_reply": "2023-01-06T14:38:12.963487Z"
    },
    "papermill": {
     "duration": 2.644694,
     "end_time": "2023-01-06T14:38:12.968225",
     "exception": false,
     "start_time": "2023-01-06T14:38:10.323531",
     "status": "completed"
    },
    "tags": []
   },
   "outputs": [
    {
     "data": {
      "image/png": "[encoded data removed]",
      "text/plain": [
       "<Figure size 1440x1440 with 14 Axes>"
      ]
     },
     "metadata": {
      "needs_background": "light"
     },
     "output_type": "display_data"
    }
   ],
   "source": [
    "# plot distribution\n",
    "plt.figure(figsize = (20, 20))\n",
    "columns = list(df)\n",
    "subplt = 1\n",
    "for col in columns:\n",
    "    if subplt <= len(columns):\n",
    "        ax = plt.subplot(4, 4, subplt)\n",
    "        sns.histplot(df[col], kde = True)\n",
    "        plt.xlabel(col)\n",
    "    subplt += 1\n",
    "plt.show()"
   ]
  },
  {
   "cell_type": "code",
   "execution_count": 10,
   "id": "742db6a3",
   "metadata": {
    "execution": {
     "iopub.execute_input": "2023-01-06T14:38:12.991296Z",
     "iopub.status.busy": "2023-01-06T14:38:12.990888Z",
     "iopub.status.idle": "2023-01-06T14:38:12.996848Z",
     "shell.execute_reply": "2023-01-06T14:38:12.995314Z"
    },
    "papermill": {
     "duration": 0.020898,
     "end_time": "2023-01-06T14:38:12.999528",
     "exception": false,
     "start_time": "2023-01-06T14:38:12.978630",
     "status": "completed"
    },
    "tags": []
   },
   "outputs": [],
   "source": [
    "# identify categorical and numerical columns \n",
    "categ_cols = ['sex', 'cp', 'fbs', 'restecg','exang', 'slope', 'ca', 'thal', 'target']\n",
    "numer_cols = ['age', 'tresbps', 'chol', 'thalach', 'oldpeak']"
   ]
  },
  {
   "cell_type": "code",
   "execution_count": 11,
   "id": "0c12df0a",
   "metadata": {
    "execution": {
     "iopub.execute_input": "2023-01-06T14:38:13.022158Z",
     "iopub.status.busy": "2023-01-06T14:38:13.021773Z",
     "iopub.status.idle": "2023-01-06T14:38:13.026980Z",
     "shell.execute_reply": "2023-01-06T14:38:13.025717Z"
    },
    "papermill": {
     "duration": 0.01956,
     "end_time": "2023-01-06T14:38:13.029571",
     "exception": false,
     "start_time": "2023-01-06T14:38:13.010011",
     "status": "completed"
    },
    "tags": []
   },
   "outputs": [],
   "source": [
    "# # plot categorical data\n",
    "# plt.figure(figsize = (20, 20))\n",
    "# columns = list(categ_cols)\n",
    "# subplt = 1\n",
    "# for col in columns:\n",
    "#     if subplt <= len(columns):\n",
    "#         ax = plt.subplot(3, 4, subplt)\n",
    "#         sns.countplot(x = df[col])\n",
    "#         plt.xlabel(col)\n",
    "#     subplt += 1\n",
    "# plt.show()"
   ]
  },
  {
   "cell_type": "code",
   "execution_count": null,
   "id": "07a8a5f3",
   "metadata": {
    "papermill": {
     "duration": 0.010129,
     "end_time": "2023-01-06T14:38:13.050210",
     "exception": false,
     "start_time": "2023-01-06T14:38:13.040081",
     "status": "completed"
    },
    "tags": []
   },
   "outputs": [],
   "source": []
  },
  {
   "cell_type": "code",
   "execution_count": null,
   "id": "e763f67d",
   "metadata": {
    "papermill": {
     "duration": 0.009906,
     "end_time": "2023-01-06T14:38:13.070742",
     "exception": false,
     "start_time": "2023-01-06T14:38:13.060836",
     "status": "completed"
    },
    "tags": []
   },
   "outputs": [],
   "source": []
  },
  {
   "cell_type": "code",
   "execution_count": null,
   "id": "bf36a939",
   "metadata": {
    "papermill": {
     "duration": 0.009879,
     "end_time": "2023-01-06T14:38:13.090759",
     "exception": false,
     "start_time": "2023-01-06T14:38:13.080880",
     "status": "completed"
    },
    "tags": []
   },
   "outputs": [],
   "source": []
  },
  {
   "cell_type": "code",
   "execution_count": 12,
   "id": "5304bed0",
   "metadata": {
    "execution": {
     "iopub.execute_input": "2023-01-06T14:38:13.113235Z",
     "iopub.status.busy": "2023-01-06T14:38:13.112799Z",
     "iopub.status.idle": "2023-01-06T14:38:13.117748Z",
     "shell.execute_reply": "2023-01-06T14:38:13.116441Z"
    },
    "papermill": {
     "duration": 0.018997,
     "end_time": "2023-01-06T14:38:13.120125",
     "exception": false,
     "start_time": "2023-01-06T14:38:13.101128",
     "status": "completed"
    },
    "tags": []
   },
   "outputs": [],
   "source": [
    "# num_df = df.filter(numer_cols)\n",
    "# fig = px.scatter_matrix(num_df, dimensions = num_df, color = df['target'])\n",
    "# fig.show()"
   ]
  },
  {
   "cell_type": "code",
   "execution_count": 13,
   "id": "eceff908",
   "metadata": {
    "execution": {
     "iopub.execute_input": "2023-01-06T14:38:13.142256Z",
     "iopub.status.busy": "2023-01-06T14:38:13.141842Z",
     "iopub.status.idle": "2023-01-06T14:38:13.146916Z",
     "shell.execute_reply": "2023-01-06T14:38:13.145729Z"
    },
    "papermill": {
     "duration": 0.01891,
     "end_time": "2023-01-06T14:38:13.149264",
     "exception": false,
     "start_time": "2023-01-06T14:38:13.130354",
     "status": "completed"
    },
    "tags": []
   },
   "outputs": [],
   "source": [
    "# # heatmap\n",
    "# plt.figure(figsize=(20,10)) \n",
    "# sns.heatmap(df.corr(), annot=True, linewidths=1, linecolor=\"white\")\n",
    "# plt.show()"
   ]
  },
  {
   "cell_type": "markdown",
   "id": "640db7af",
   "metadata": {
    "papermill": {
     "duration": 0.010172,
     "end_time": "2023-01-06T14:38:13.169875",
     "exception": false,
     "start_time": "2023-01-06T14:38:13.159703",
     "status": "completed"
    },
    "tags": []
   },
   "source": [
    "**Creating Model**"
   ]
  },
  {
   "cell_type": "code",
   "execution_count": 14,
   "id": "88ade15f",
   "metadata": {
    "execution": {
     "iopub.execute_input": "2023-01-06T14:38:13.192857Z",
     "iopub.status.busy": "2023-01-06T14:38:13.192420Z",
     "iopub.status.idle": "2023-01-06T14:38:13.203237Z",
     "shell.execute_reply": "2023-01-06T14:38:13.201938Z"
    },
    "papermill": {
     "duration": 0.025919,
     "end_time": "2023-01-06T14:38:13.206140",
     "exception": false,
     "start_time": "2023-01-06T14:38:13.180221",
     "status": "completed"
    },
    "tags": []
   },
   "outputs": [],
   "source": [
    "# create model\n",
    "dep_col = 'target' \n",
    "ind_col = [col for col in df.columns if col != 'target'] \n",
    "\n",
    "x = df[ind_col] \n",
    "y = df[dep_col]\n",
    "\n",
    "rand_seed = 3 \n",
    "\n",
    "x_train, x_test, y_train, y_test = train_test_split(x, y, test_size = 0.20, random_state = rand_seed)"
   ]
  },
  {
   "cell_type": "markdown",
   "id": "ec59bb5c",
   "metadata": {
    "papermill": {
     "duration": 0.010219,
     "end_time": "2023-01-06T14:38:13.227300",
     "exception": false,
     "start_time": "2023-01-06T14:38:13.217081",
     "status": "completed"
    },
    "tags": []
   },
   "source": [
    "**Selecting Classifiers**"
   ]
  },
  {
   "cell_type": "code",
   "execution_count": 15,
   "id": "597db031",
   "metadata": {
    "execution": {
     "iopub.execute_input": "2023-01-06T14:38:13.250681Z",
     "iopub.status.busy": "2023-01-06T14:38:13.250228Z",
     "iopub.status.idle": "2023-01-06T14:38:13.350419Z",
     "shell.execute_reply": "2023-01-06T14:38:13.349119Z"
    },
    "papermill": {
     "duration": 0.114285,
     "end_time": "2023-01-06T14:38:13.352838",
     "exception": false,
     "start_time": "2023-01-06T14:38:13.238553",
     "status": "completed"
    },
    "tags": []
   },
   "outputs": [
    {
     "name": "stdout",
     "output_type": "stream",
     "text": [
      "Training phase accuracy: 0.9207317073170732\n",
      "Test phase accuracy: 0.751219512195122\n",
      "Classification Report : \n",
      "               precision    recall  f1-score   support\n",
      "\n",
      "           0       0.76      0.76      0.76       106\n",
      "           1       0.74      0.74      0.74        99\n",
      "\n",
      "    accuracy                           0.75       205\n",
      "   macro avg       0.75      0.75      0.75       205\n",
      "weighted avg       0.75      0.75      0.75       205\n",
      "\n",
      "Confusion Matrix : \n",
      "[[81 25]\n",
      " [26 73]]\n",
      "\n"
     ]
    },
    {
     "data": {
      "text/html": [
       "<div>\n",
       "<style scoped>\n",
       "    .dataframe tbody tr th:only-of-type {\n",
       "        vertical-align: middle;\n",
       "    }\n",
       "\n",
       "    .dataframe tbody tr th {\n",
       "        vertical-align: top;\n",
       "    }\n",
       "\n",
       "    .dataframe thead th {\n",
       "        text-align: right;\n",
       "    }\n",
       "</style>\n",
       "<table border=\"1\" class=\"dataframe\">\n",
       "  <thead>\n",
       "    <tr style=\"text-align: right;\">\n",
       "      <th>Predicted</th>\n",
       "      <th>0</th>\n",
       "      <th>1</th>\n",
       "      <th>All</th>\n",
       "    </tr>\n",
       "    <tr>\n",
       "      <th>True</th>\n",
       "      <th></th>\n",
       "      <th></th>\n",
       "      <th></th>\n",
       "    </tr>\n",
       "  </thead>\n",
       "  <tbody>\n",
       "    <tr>\n",
       "      <th>0</th>\n",
       "      <td>81</td>\n",
       "      <td>25</td>\n",
       "      <td>106</td>\n",
       "    </tr>\n",
       "    <tr>\n",
       "      <th>1</th>\n",
       "      <td>26</td>\n",
       "      <td>73</td>\n",
       "      <td>99</td>\n",
       "    </tr>\n",
       "    <tr>\n",
       "      <th>All</th>\n",
       "      <td>107</td>\n",
       "      <td>98</td>\n",
       "      <td>205</td>\n",
       "    </tr>\n",
       "  </tbody>\n",
       "</table>\n",
       "</div>"
      ],
      "text/plain": [
       "Predicted    0   1  All\n",
       "True                   \n",
       "0           81  25  106\n",
       "1           26  73   99\n",
       "All        107  98  205"
      ]
     },
     "execution_count": 15,
     "metadata": {},
     "output_type": "execute_result"
    }
   ],
   "source": [
    "knnc = KNeighborsClassifier() \n",
    "knnc.fit(x_train, y_train) \n",
    "knnc_predicted_train = knnc.predict(x_train) \n",
    "knnc_predicted_test = knnc.predict(x_test) \n",
    "knnc_train_acc = accuracy_score(y_train, knnc_predicted_train) \n",
    "knnc_test_acc = accuracy_score(y_test, knnc_predicted_test) \n",
    "knnc_classification_report = classification_report(y_test, knnc_predicted_test)\n",
    "knnc_confusion_matrix = confusion_matrix(y_test, knnc_predicted_test)\n",
    "\n",
    "# print accuracy score, classification report, and confusion matrix\n",
    "print(f\"Training phase accuracy: {knnc_train_acc}\")\n",
    "print(f\"Test phase accuracy: {knnc_test_acc}\")\n",
    "print(f\"Classification Report : \\n {knnc_classification_report}\")\n",
    "print(f\"Confusion Matrix : \\n{knnc_confusion_matrix}\\n\")\n",
    "\n",
    "# consfusion matrix cross table\n",
    "pd.crosstab(y_test, knnc_predicted_test, rownames=['True'], colnames=['Predicted'], margins=True)"
   ]
  },
  {
   "cell_type": "code",
   "execution_count": 16,
   "id": "601a86af",
   "metadata": {
    "execution": {
     "iopub.execute_input": "2023-01-06T14:38:13.376066Z",
     "iopub.status.busy": "2023-01-06T14:38:13.374885Z",
     "iopub.status.idle": "2023-01-06T14:38:13.433451Z",
     "shell.execute_reply": "2023-01-06T14:38:13.431716Z"
    },
    "papermill": {
     "duration": 0.072827,
     "end_time": "2023-01-06T14:38:13.436044",
     "exception": false,
     "start_time": "2023-01-06T14:38:13.363217",
     "status": "completed"
    },
    "tags": []
   },
   "outputs": [
    {
     "name": "stdout",
     "output_type": "stream",
     "text": [
      "Training phase accuracy: 1.0\n",
      "Test phase accuracy: 1.0\n",
      "Classification Report : \n",
      "               precision    recall  f1-score   support\n",
      "\n",
      "           0       1.00      1.00      1.00       106\n",
      "           1       1.00      1.00      1.00        99\n",
      "\n",
      "    accuracy                           1.00       205\n",
      "   macro avg       1.00      1.00      1.00       205\n",
      "weighted avg       1.00      1.00      1.00       205\n",
      "\n",
      "Confusion Matrix : \n",
      "[[106   0]\n",
      " [  0  99]]\n",
      "\n"
     ]
    },
    {
     "data": {
      "text/html": [
       "<div>\n",
       "<style scoped>\n",
       "    .dataframe tbody tr th:only-of-type {\n",
       "        vertical-align: middle;\n",
       "    }\n",
       "\n",
       "    .dataframe tbody tr th {\n",
       "        vertical-align: top;\n",
       "    }\n",
       "\n",
       "    .dataframe thead th {\n",
       "        text-align: right;\n",
       "    }\n",
       "</style>\n",
       "<table border=\"1\" class=\"dataframe\">\n",
       "  <thead>\n",
       "    <tr style=\"text-align: right;\">\n",
       "      <th>Predicted</th>\n",
       "      <th>0</th>\n",
       "      <th>1</th>\n",
       "      <th>All</th>\n",
       "    </tr>\n",
       "    <tr>\n",
       "      <th>True</th>\n",
       "      <th></th>\n",
       "      <th></th>\n",
       "      <th></th>\n",
       "    </tr>\n",
       "  </thead>\n",
       "  <tbody>\n",
       "    <tr>\n",
       "      <th>0</th>\n",
       "      <td>106</td>\n",
       "      <td>0</td>\n",
       "      <td>106</td>\n",
       "    </tr>\n",
       "    <tr>\n",
       "      <th>1</th>\n",
       "      <td>0</td>\n",
       "      <td>99</td>\n",
       "      <td>99</td>\n",
       "    </tr>\n",
       "    <tr>\n",
       "      <th>All</th>\n",
       "      <td>106</td>\n",
       "      <td>99</td>\n",
       "      <td>205</td>\n",
       "    </tr>\n",
       "  </tbody>\n",
       "</table>\n",
       "</div>"
      ],
      "text/plain": [
       "Predicted    0   1  All\n",
       "True                   \n",
       "0          106   0  106\n",
       "1            0  99   99\n",
       "All        106  99  205"
      ]
     },
     "execution_count": 16,
     "metadata": {},
     "output_type": "execute_result"
    }
   ],
   "source": [
    "dtc = DecisionTreeClassifier() \n",
    "dtc.fit(x_train, y_train) \n",
    "dtc_predicted_train = dtc.predict(x_train) \n",
    "dtc_predicted_test = dtc.predict(x_test) \n",
    "dtc_train_acc = accuracy_score(y_train, dtc_predicted_train) \n",
    "dtc_test_acc = accuracy_score(y_test, dtc_predicted_test) \n",
    "dtc_classification_report = classification_report(y_test, dtc_predicted_test)\n",
    "dtc_confusion_matrix = confusion_matrix(y_test, dtc_predicted_test)\n",
    "\n",
    "# print accuracy score, classification report, and confusion matrix\n",
    "print(f\"Training phase accuracy: {dtc_train_acc}\")\n",
    "print(f\"Test phase accuracy: {dtc_test_acc}\")\n",
    "print(f\"Classification Report : \\n {dtc_classification_report}\")\n",
    "print(f\"Confusion Matrix : \\n{dtc_confusion_matrix}\\n\")\n",
    "\n",
    "# consfusion matrix cross table\n",
    "pd.crosstab(y_test, dtc_predicted_test, rownames=['True'], colnames=['Predicted'], margins=True)"
   ]
  },
  {
   "cell_type": "code",
   "execution_count": 17,
   "id": "6d2bee7d",
   "metadata": {
    "execution": {
     "iopub.execute_input": "2023-01-06T14:38:13.461998Z",
     "iopub.status.busy": "2023-01-06T14:38:13.461559Z",
     "iopub.status.idle": "2023-01-06T14:38:13.859428Z",
     "shell.execute_reply": "2023-01-06T14:38:13.857620Z"
    },
    "papermill": {
     "duration": 0.414568,
     "end_time": "2023-01-06T14:38:13.862751",
     "exception": false,
     "start_time": "2023-01-06T14:38:13.448183",
     "status": "completed"
    },
    "tags": []
   },
   "outputs": [
    {
     "name": "stdout",
     "output_type": "stream",
     "text": [
      "Training phase accuracy: 1.0\n",
      "Test phase accuracy: 1.0\n",
      "Classification Report : \n",
      "               precision    recall  f1-score   support\n",
      "\n",
      "           0       1.00      1.00      1.00       106\n",
      "           1       1.00      1.00      1.00        99\n",
      "\n",
      "    accuracy                           1.00       205\n",
      "   macro avg       1.00      1.00      1.00       205\n",
      "weighted avg       1.00      1.00      1.00       205\n",
      "\n",
      "Confusion Matrix : \n",
      "[[106   0]\n",
      " [  0  99]]\n",
      "\n"
     ]
    },
    {
     "data": {
      "text/html": [
       "<div>\n",
       "<style scoped>\n",
       "    .dataframe tbody tr th:only-of-type {\n",
       "        vertical-align: middle;\n",
       "    }\n",
       "\n",
       "    .dataframe tbody tr th {\n",
       "        vertical-align: top;\n",
       "    }\n",
       "\n",
       "    .dataframe thead th {\n",
       "        text-align: right;\n",
       "    }\n",
       "</style>\n",
       "<table border=\"1\" class=\"dataframe\">\n",
       "  <thead>\n",
       "    <tr style=\"text-align: right;\">\n",
       "      <th>Predicted</th>\n",
       "      <th>0</th>\n",
       "      <th>1</th>\n",
       "      <th>All</th>\n",
       "    </tr>\n",
       "    <tr>\n",
       "      <th>True</th>\n",
       "      <th></th>\n",
       "      <th></th>\n",
       "      <th></th>\n",
       "    </tr>\n",
       "  </thead>\n",
       "  <tbody>\n",
       "    <tr>\n",
       "      <th>0</th>\n",
       "      <td>106</td>\n",
       "      <td>0</td>\n",
       "      <td>106</td>\n",
       "    </tr>\n",
       "    <tr>\n",
       "      <th>1</th>\n",
       "      <td>0</td>\n",
       "      <td>99</td>\n",
       "      <td>99</td>\n",
       "    </tr>\n",
       "    <tr>\n",
       "      <th>All</th>\n",
       "      <td>106</td>\n",
       "      <td>99</td>\n",
       "      <td>205</td>\n",
       "    </tr>\n",
       "  </tbody>\n",
       "</table>\n",
       "</div>"
      ],
      "text/plain": [
       "Predicted    0   1  All\n",
       "True                   \n",
       "0          106   0  106\n",
       "1            0  99   99\n",
       "All        106  99  205"
      ]
     },
     "execution_count": 17,
     "metadata": {},
     "output_type": "execute_result"
    }
   ],
   "source": [
    "XGB = XGBClassifier()\n",
    "XGB.fit(x_train, y_train)\n",
    "xgb_predicted_train = dtc.predict(x_train) \n",
    "xgb_predicted_test = dtc.predict(x_test) \n",
    "xgb_train_acc = accuracy_score(y_train, xgb_predicted_train) \n",
    "xgb_test_acc = accuracy_score(y_test, xgb_predicted_test) \n",
    "xgb_classification_report = classification_report(y_test, xgb_predicted_test)\n",
    "xgb_confusion_matrix = confusion_matrix(y_test, xgb_predicted_test)\n",
    "\n",
    "print(f\"Training phase accuracy: {xgb_train_acc}\")\n",
    "print(f\"Test phase accuracy: {xgb_test_acc}\")\n",
    "print(f\"Classification Report : \\n {xgb_classification_report}\")\n",
    "print(f\"Confusion Matrix : \\n{xgb_confusion_matrix}\\n\")\n",
    "pd.crosstab(y_test, xgb_predicted_test, rownames=['True'], colnames=['Predicted'], margins=True)"
   ]
  },
  {
   "cell_type": "code",
   "execution_count": 18,
   "id": "9a520569",
   "metadata": {
    "execution": {
     "iopub.execute_input": "2023-01-06T14:38:13.887083Z",
     "iopub.status.busy": "2023-01-06T14:38:13.886692Z",
     "iopub.status.idle": "2023-01-06T14:38:14.130323Z",
     "shell.execute_reply": "2023-01-06T14:38:14.128912Z"
    },
    "papermill": {
     "duration": 0.259605,
     "end_time": "2023-01-06T14:38:14.133632",
     "exception": false,
     "start_time": "2023-01-06T14:38:13.874027",
     "status": "completed"
    },
    "tags": []
   },
   "outputs": [
    {
     "name": "stdout",
     "output_type": "stream",
     "text": [
      "Training phase accuracy: 1.0\n",
      "Test phase accuracy: 1.0\n",
      "Classification Report : \n",
      "               precision    recall  f1-score   support\n",
      "\n",
      "           0       1.00      1.00      1.00       106\n",
      "           1       1.00      1.00      1.00        99\n",
      "\n",
      "    accuracy                           1.00       205\n",
      "   macro avg       1.00      1.00      1.00       205\n",
      "weighted avg       1.00      1.00      1.00       205\n",
      "\n",
      "Confusion Matrix : \n",
      "[[106   0]\n",
      " [  0  99]]\n",
      "\n"
     ]
    },
    {
     "data": {
      "text/html": [
       "<div>\n",
       "<style scoped>\n",
       "    .dataframe tbody tr th:only-of-type {\n",
       "        vertical-align: middle;\n",
       "    }\n",
       "\n",
       "    .dataframe tbody tr th {\n",
       "        vertical-align: top;\n",
       "    }\n",
       "\n",
       "    .dataframe thead th {\n",
       "        text-align: right;\n",
       "    }\n",
       "</style>\n",
       "<table border=\"1\" class=\"dataframe\">\n",
       "  <thead>\n",
       "    <tr style=\"text-align: right;\">\n",
       "      <th>Predicted</th>\n",
       "      <th>0</th>\n",
       "      <th>1</th>\n",
       "      <th>All</th>\n",
       "    </tr>\n",
       "    <tr>\n",
       "      <th>True</th>\n",
       "      <th></th>\n",
       "      <th></th>\n",
       "      <th></th>\n",
       "    </tr>\n",
       "  </thead>\n",
       "  <tbody>\n",
       "    <tr>\n",
       "      <th>0</th>\n",
       "      <td>106</td>\n",
       "      <td>0</td>\n",
       "      <td>106</td>\n",
       "    </tr>\n",
       "    <tr>\n",
       "      <th>1</th>\n",
       "      <td>0</td>\n",
       "      <td>99</td>\n",
       "      <td>99</td>\n",
       "    </tr>\n",
       "    <tr>\n",
       "      <th>All</th>\n",
       "      <td>106</td>\n",
       "      <td>99</td>\n",
       "      <td>205</td>\n",
       "    </tr>\n",
       "  </tbody>\n",
       "</table>\n",
       "</div>"
      ],
      "text/plain": [
       "Predicted    0   1  All\n",
       "True                   \n",
       "0          106   0  106\n",
       "1            0  99   99\n",
       "All        106  99  205"
      ]
     },
     "execution_count": 18,
     "metadata": {},
     "output_type": "execute_result"
    }
   ],
   "source": [
    "etc = ExtraTreesClassifier() \n",
    "etc.fit(x_train, y_train) \n",
    "etc_predicted_train = etc.predict(x_train) \n",
    "etc_predicted_test = etc.predict(x_test) \n",
    "etc_train_acc = accuracy_score(y_train, etc_predicted_train) \n",
    "etc_test_acc = accuracy_score(y_test, etc_predicted_test) \n",
    "etc_classification_report = classification_report(y_test, etc_predicted_test)\n",
    "etc_confusion_matrix = confusion_matrix(y_test, etc_predicted_test)\n",
    "\n",
    "# print accuracy score, classification report, and confusion matrix\n",
    "print(f\"Training phase accuracy: {etc_train_acc}\")\n",
    "print(f\"Test phase accuracy: {etc_test_acc}\")\n",
    "print(f\"Classification Report : \\n {etc_classification_report}\")\n",
    "print(f\"Confusion Matrix : \\n{etc_confusion_matrix}\\n\")\n",
    "\n",
    "# consfusion matrix cross table\n",
    "pd.crosstab(y_test, etc_predicted_test, rownames=['True'], colnames=['Predicted'], margins=True)\n"
   ]
  },
  {
   "cell_type": "code",
   "execution_count": 19,
   "id": "819e8767",
   "metadata": {
    "execution": {
     "iopub.execute_input": "2023-01-06T14:38:14.159658Z",
     "iopub.status.busy": "2023-01-06T14:38:14.158498Z",
     "iopub.status.idle": "2023-01-06T14:38:15.413754Z",
     "shell.execute_reply": "2023-01-06T14:38:15.412424Z"
    },
    "papermill": {
     "duration": 1.271448,
     "end_time": "2023-01-06T14:38:15.416855",
     "exception": false,
     "start_time": "2023-01-06T14:38:14.145407",
     "status": "completed"
    },
    "tags": []
   },
   "outputs": [
    {
     "data": {
      "text/html": [
       "        <script type=\"text/javascript\">\n",
       "        window.PlotlyConfig = {MathJaxConfig: 'local'};\n",
       "        if (window.MathJax && window.MathJax.Hub && window.MathJax.Hub.Config) {window.MathJax.Hub.Config({SVG: {font: \"STIX-Web\"}});}\n",
       "        if (typeof require !== 'undefined') {\n",
       "        require.undef(\"plotly\");\n",
       "        requirejs.config({\n",
       "            paths: {\n",
       "                'plotly': ['https://cdn.plot.ly/plotly-2.16.1.min']\n",
       "            }\n",
       "        });\n",
       "        require(['plotly'], function(Plotly) {\n",
       "            window._Plotly = Plotly;\n",
       "        });\n",
       "        }\n",
       "        </script>\n",
       "        "
      ]
     },
     "metadata": {},
     "output_type": "display_data"
    },
    {
     "data": {
      "text/html": [
       "<div>                            <div id=\"11a2d2be-0052-47ab-a42c-bab26a1b10fd\" class=\"plotly-graph-div\" style=\"height:525px; width:100%;\"></div>            <script type=\"text/javascript\">                require([\"plotly\"], function(Plotly) {                    window.PLOTLYENV=window.PLOTLYENV || {};                                    if (document.getElementById(\"11a2d2be-0052-47ab-a42c-bab26a1b10fd\")) {                    Plotly.newPlot(                        \"11a2d2be-0052-47ab-a42c-bab26a1b10fd\",                        [{\"alignmentgroup\":\"True\",\"bingroup\":\"y\",\"histfunc\":\"sum\",\"hovertemplate\":\"Accuracy=0.751219512195122<br>sum of Accuracy=%{x}<br>Classifier=%{y}<extra></extra>\",\"legendgroup\":\"0.751219512195122\",\"marker\":{\"color\":\"#636efa\",\"pattern\":{\"shape\":\"\"}},\"name\":\"0.751219512195122\",\"offsetgroup\":\"0.751219512195122\",\"orientation\":\"h\",\"showlegend\":true,\"x\":[0.751219512195122],\"xaxis\":\"x\",\"y\":[\"k-NN\"],\"yaxis\":\"y\",\"type\":\"histogram\"},{\"alignmentgroup\":\"True\",\"bingroup\":\"y\",\"histfunc\":\"sum\",\"hovertemplate\":\"Accuracy=1.0<br>sum of Accuracy=%{x}<br>Classifier=%{y}<extra></extra>\",\"legendgroup\":\"1.0\",\"marker\":{\"color\":\"#EF553B\",\"pattern\":{\"shape\":\"\"}},\"name\":\"1.0\",\"offsetgroup\":\"1.0\",\"orientation\":\"h\",\"showlegend\":true,\"x\":[1.0,1.0],\"xaxis\":\"x\",\"y\":[\"Decision Tree Classifier\",\"Extra Trees Classifier\"],\"yaxis\":\"y\",\"type\":\"histogram\"}],                        {\"template\":{\"data\":{\"histogram2dcontour\":[{\"type\":\"histogram2dcontour\",\"colorbar\":{\"outlinewidth\":0,\"ticks\":\"\"},\"colorscale\":[[0.0,\"#0d0887\"],[0.1111111111111111,\"#46039f\"],[0.2222222222222222,\"#7201a8\"],[0.3333333333333333,\"#9c179e\"],[0.4444444444444444,\"#bd3786\"],[0.5555555555555556,\"#d8576b\"],[0.6666666666666666,\"#ed7953\"],[0.7777777777777778,\"#fb9f3a\"],[0.8888888888888888,\"#fdca26\"],[1.0,\"#f0f921\"]]}],\"choropleth\":[{\"type\":\"choropleth\",\"colorbar\":{\"outlinewidth\":0,\"ticks\":\"\"}}],\"histogram2d\":[{\"type\":\"histogram2d\",\"colorbar\":{\"outlinewidth\":0,\"ticks\":\"\"},\"colorscale\":[[0.0,\"#0d0887\"],[0.1111111111111111,\"#46039f\"],[0.2222222222222222,\"#7201a8\"],[0.3333333333333333,\"#9c179e\"],[0.4444444444444444,\"#bd3786\"],[0.5555555555555556,\"#d8576b\"],[0.6666666666666666,\"#ed7953\"],[0.7777777777777778,\"#fb9f3a\"],[0.8888888888888888,\"#fdca26\"],[1.0,\"#f0f921\"]]}],\"heatmap\":[{\"type\":\"heatmap\",\"colorbar\":{\"outlinewidth\":0,\"ticks\":\"\"},\"colorscale\":[[0.0,\"#0d0887\"],[0.1111111111111111,\"#46039f\"],[0.2222222222222222,\"#7201a8\"],[0.3333333333333333,\"#9c179e\"],[0.4444444444444444,\"#bd3786\"],[0.5555555555555556,\"#d8576b\"],[0.6666666666666666,\"#ed7953\"],[0.7777777777777778,\"#fb9f3a\"],[0.8888888888888888,\"#fdca26\"],[1.0,\"#f0f921\"]]}],\"heatmapgl\":[{\"type\":\"heatmapgl\",\"colorbar\":{\"outlinewidth\":0,\"ticks\":\"\"},\"colorscale\":[[0.0,\"#0d0887\"],[0.1111111111111111,\"#46039f\"],[0.2222222222222222,\"#7201a8\"],[0.3333333333333333,\"#9c179e\"],[0.4444444444444444,\"#bd3786\"],[0.5555555555555556,\"#d8576b\"],[0.6666666666666666,\"#ed7953\"],[0.7777777777777778,\"#fb9f3a\"],[0.8888888888888888,\"#fdca26\"],[1.0,\"#f0f921\"]]}],\"contourcarpet\":[{\"type\":\"contourcarpet\",\"colorbar\":{\"outlinewidth\":0,\"ticks\":\"\"}}],\"contour\":[{\"type\":\"contour\",\"colorbar\":{\"outlinewidth\":0,\"ticks\":\"\"},\"colorscale\":[[0.0,\"#0d0887\"],[0.1111111111111111,\"#46039f\"],[0.2222222222222222,\"#7201a8\"],[0.3333333333333333,\"#9c179e\"],[0.4444444444444444,\"#bd3786\"],[0.5555555555555556,\"#d8576b\"],[0.6666666666666666,\"#ed7953\"],[0.7777777777777778,\"#fb9f3a\"],[0.8888888888888888,\"#fdca26\"],[1.0,\"#f0f921\"]]}],\"surface\":[{\"type\":\"surface\",\"colorbar\":{\"outlinewidth\":0,\"ticks\":\"\"},\"colorscale\":[[0.0,\"#0d0887\"],[0.1111111111111111,\"#46039f\"],[0.2222222222222222,\"#7201a8\"],[0.3333333333333333,\"#9c179e\"],[0.4444444444444444,\"#bd3786\"],[0.5555555555555556,\"#d8576b\"],[0.6666666666666666,\"#ed7953\"],[0.7777777777777778,\"#fb9f3a\"],[0.8888888888888888,\"#fdca26\"],[1.0,\"#f0f921\"]]}],\"mesh3d\":[{\"type\":\"mesh3d\",\"colorbar\":{\"outlinewidth\":0,\"ticks\":\"\"}}],\"scatter\":[{\"fillpattern\":{\"fillmode\":\"overlay\",\"size\":10,\"solidity\":0.2},\"type\":\"scatter\"}],\"parcoords\":[{\"type\":\"parcoords\",\"line\":{\"colorbar\":{\"outlinewidth\":0,\"ticks\":\"\"}}}],\"scatterpolargl\":[{\"type\":\"scatterpolargl\",\"marker\":{\"colorbar\":{\"outlinewidth\":0,\"ticks\":\"\"}}}],\"bar\":[{\"error_x\":{\"color\":\"#2a3f5f\"},\"error_y\":{\"color\":\"#2a3f5f\"},\"marker\":{\"line\":{\"color\":\"#E5ECF6\",\"width\":0.5},\"pattern\":{\"fillmode\":\"overlay\",\"size\":10,\"solidity\":0.2}},\"type\":\"bar\"}],\"scattergeo\":[{\"type\":\"scattergeo\",\"marker\":{\"colorbar\":{\"outlinewidth\":0,\"ticks\":\"\"}}}],\"scatterpolar\":[{\"type\":\"scatterpolar\",\"marker\":{\"colorbar\":{\"outlinewidth\":0,\"ticks\":\"\"}}}],\"histogram\":[{\"marker\":{\"pattern\":{\"fillmode\":\"overlay\",\"size\":10,\"solidity\":0.2}},\"type\":\"histogram\"}],\"scattergl\":[{\"type\":\"scattergl\",\"marker\":{\"colorbar\":{\"outlinewidth\":0,\"ticks\":\"\"}}}],\"scatter3d\":[{\"type\":\"scatter3d\",\"line\":{\"colorbar\":{\"outlinewidth\":0,\"ticks\":\"\"}},\"marker\":{\"colorbar\":{\"outlinewidth\":0,\"ticks\":\"\"}}}],\"scattermapbox\":[{\"type\":\"scattermapbox\",\"marker\":{\"colorbar\":{\"outlinewidth\":0,\"ticks\":\"\"}}}],\"scatterternary\":[{\"type\":\"scatterternary\",\"marker\":{\"colorbar\":{\"outlinewidth\":0,\"ticks\":\"\"}}}],\"scattercarpet\":[{\"type\":\"scattercarpet\",\"marker\":{\"colorbar\":{\"outlinewidth\":0,\"ticks\":\"\"}}}],\"carpet\":[{\"aaxis\":{\"endlinecolor\":\"#2a3f5f\",\"gridcolor\":\"white\",\"linecolor\":\"white\",\"minorgridcolor\":\"white\",\"startlinecolor\":\"#2a3f5f\"},\"baxis\":{\"endlinecolor\":\"#2a3f5f\",\"gridcolor\":\"white\",\"linecolor\":\"white\",\"minorgridcolor\":\"white\",\"startlinecolor\":\"#2a3f5f\"},\"type\":\"carpet\"}],\"table\":[{\"cells\":{\"fill\":{\"color\":\"#EBF0F8\"},\"line\":{\"color\":\"white\"}},\"header\":{\"fill\":{\"color\":\"#C8D4E3\"},\"line\":{\"color\":\"white\"}},\"type\":\"table\"}],\"barpolar\":[{\"marker\":{\"line\":{\"color\":\"#E5ECF6\",\"width\":0.5},\"pattern\":{\"fillmode\":\"overlay\",\"size\":10,\"solidity\":0.2}},\"type\":\"barpolar\"}],\"pie\":[{\"automargin\":true,\"type\":\"pie\"}]},\"layout\":{\"autotypenumbers\":\"strict\",\"colorway\":[\"#636efa\",\"#EF553B\",\"#00cc96\",\"#ab63fa\",\"#FFA15A\",\"#19d3f3\",\"#FF6692\",\"#B6E880\",\"#FF97FF\",\"#FECB52\"],\"font\":{\"color\":\"#2a3f5f\"},\"hovermode\":\"closest\",\"hoverlabel\":{\"align\":\"left\"},\"paper_bgcolor\":\"white\",\"plot_bgcolor\":\"#E5ECF6\",\"polar\":{\"bgcolor\":\"#E5ECF6\",\"angularaxis\":{\"gridcolor\":\"white\",\"linecolor\":\"white\",\"ticks\":\"\"},\"radialaxis\":{\"gridcolor\":\"white\",\"linecolor\":\"white\",\"ticks\":\"\"}},\"ternary\":{\"bgcolor\":\"#E5ECF6\",\"aaxis\":{\"gridcolor\":\"white\",\"linecolor\":\"white\",\"ticks\":\"\"},\"baxis\":{\"gridcolor\":\"white\",\"linecolor\":\"white\",\"ticks\":\"\"},\"caxis\":{\"gridcolor\":\"white\",\"linecolor\":\"white\",\"ticks\":\"\"}},\"coloraxis\":{\"colorbar\":{\"outlinewidth\":0,\"ticks\":\"\"}},\"colorscale\":{\"sequential\":[[0.0,\"#0d0887\"],[0.1111111111111111,\"#46039f\"],[0.2222222222222222,\"#7201a8\"],[0.3333333333333333,\"#9c179e\"],[0.4444444444444444,\"#bd3786\"],[0.5555555555555556,\"#d8576b\"],[0.6666666666666666,\"#ed7953\"],[0.7777777777777778,\"#fb9f3a\"],[0.8888888888888888,\"#fdca26\"],[1.0,\"#f0f921\"]],\"sequentialminus\":[[0.0,\"#0d0887\"],[0.1111111111111111,\"#46039f\"],[0.2222222222222222,\"#7201a8\"],[0.3333333333333333,\"#9c179e\"],[0.4444444444444444,\"#bd3786\"],[0.5555555555555556,\"#d8576b\"],[0.6666666666666666,\"#ed7953\"],[0.7777777777777778,\"#fb9f3a\"],[0.8888888888888888,\"#fdca26\"],[1.0,\"#f0f921\"]],\"diverging\":[[0,\"#8e0152\"],[0.1,\"#c51b7d\"],[0.2,\"#de77ae\"],[0.3,\"#f1b6da\"],[0.4,\"#fde0ef\"],[0.5,\"#f7f7f7\"],[0.6,\"#e6f5d0\"],[0.7,\"#b8e186\"],[0.8,\"#7fbc41\"],[0.9,\"#4d9221\"],[1,\"#276419\"]]},\"xaxis\":{\"gridcolor\":\"white\",\"linecolor\":\"white\",\"ticks\":\"\",\"title\":{\"standoff\":15},\"zerolinecolor\":\"white\",\"automargin\":true,\"zerolinewidth\":2},\"yaxis\":{\"gridcolor\":\"white\",\"linecolor\":\"white\",\"ticks\":\"\",\"title\":{\"standoff\":15},\"zerolinecolor\":\"white\",\"automargin\":true,\"zerolinewidth\":2},\"scene\":{\"xaxis\":{\"backgroundcolor\":\"#E5ECF6\",\"gridcolor\":\"white\",\"linecolor\":\"white\",\"showbackground\":true,\"ticks\":\"\",\"zerolinecolor\":\"white\",\"gridwidth\":2},\"yaxis\":{\"backgroundcolor\":\"#E5ECF6\",\"gridcolor\":\"white\",\"linecolor\":\"white\",\"showbackground\":true,\"ticks\":\"\",\"zerolinecolor\":\"white\",\"gridwidth\":2},\"zaxis\":{\"backgroundcolor\":\"#E5ECF6\",\"gridcolor\":\"white\",\"linecolor\":\"white\",\"showbackground\":true,\"ticks\":\"\",\"zerolinecolor\":\"white\",\"gridwidth\":2}},\"shapedefaults\":{\"line\":{\"color\":\"#2a3f5f\"}},\"annotationdefaults\":{\"arrowcolor\":\"#2a3f5f\",\"arrowhead\":0,\"arrowwidth\":1},\"geo\":{\"bgcolor\":\"white\",\"landcolor\":\"#E5ECF6\",\"subunitcolor\":\"white\",\"showland\":true,\"showlakes\":true,\"lakecolor\":\"white\"},\"title\":{\"x\":0.05},\"mapbox\":{\"style\":\"light\"}}},\"xaxis\":{\"anchor\":\"y\",\"domain\":[0.0,1.0],\"title\":{\"text\":\"sum of Accuracy\"},\"categoryorder\":\"array\",\"categoryarray\":[0.751219512195122,1.0]},\"yaxis\":{\"anchor\":\"x\",\"domain\":[0.0,1.0],\"title\":{\"text\":\"Classifier\"}},\"legend\":{\"title\":{\"text\":\"Accuracy\"},\"tracegroupgap\":0},\"title\":{\"text\":\"Classifier Comparison\"},\"barmode\":\"relative\"},                        {\"responsive\": true}                    ).then(function(){\n",
       "                            \n",
       "var gd = document.getElementById('11a2d2be-0052-47ab-a42c-bab26a1b10fd');\n",
       "var x = new MutationObserver(function (mutations, observer) {{\n",
       "        var display = window.getComputedStyle(gd).display;\n",
       "        if (!display || display === 'none') {{\n",
       "            console.log([gd, 'removed!']);\n",
       "            Plotly.purge(gd);\n",
       "            observer.disconnect();\n",
       "        }}\n",
       "}});\n",
       "\n",
       "// Listen for the removal of the full notebook cells\n",
       "var notebookContainer = gd.closest('#notebook-container');\n",
       "if (notebookContainer) {{\n",
       "    x.observe(notebookContainer, {childList: true});\n",
       "}}\n",
       "\n",
       "// Listen for the clearing of the current output cell\n",
       "var outputEl = gd.closest('.output');\n",
       "if (outputEl) {{\n",
       "    x.observe(outputEl, {childList: true});\n",
       "}}\n",
       "\n",
       "                        })                };                });            </script>        </div>"
      ]
     },
     "metadata": {},
     "output_type": "display_data"
    }
   ],
   "source": [
    "classifiers = pd.DataFrame({'Classifier' : [ 'k-NN', 'Decision Tree Classifier', 'Extra Trees Classifier'], 'Accuracy' : [knnc_test_acc, dtc_test_acc, etc_test_acc]})\n",
    "px.histogram(data_frame = classifiers, x = 'Accuracy', y = 'Classifier', color = 'Accuracy', title = 'Classifier Comparison')"
   ]
  },
  {
   "cell_type": "code",
   "execution_count": 20,
   "id": "69f4d413",
   "metadata": {
    "execution": {
     "iopub.execute_input": "2023-01-06T14:38:15.445095Z",
     "iopub.status.busy": "2023-01-06T14:38:15.444345Z",
     "iopub.status.idle": "2023-01-06T14:38:16.348068Z",
     "shell.execute_reply": "2023-01-06T14:38:16.346806Z"
    },
    "papermill": {
     "duration": 0.921502,
     "end_time": "2023-01-06T14:38:16.350955",
     "exception": false,
     "start_time": "2023-01-06T14:38:15.429453",
     "status": "completed"
    },
    "tags": []
   },
   "outputs": [
    {
     "data": {
      "image/png": "[encoded data removed]",
      "text/plain": [
       "<Figure size 432x288 with 1 Axes>"
      ]
     },
     "metadata": {
      "needs_background": "light"
     },
     "output_type": "display_data"
    }
   ],
   "source": [
    "# Significant Columns for k-NN\n",
    "knnc_result = permutation_importance(knnc, x_test, y_test)\n",
    "knnc_importances = pd.Series(knnc_result.importances_mean, index=list(x))\n",
    "fig, ax = plt.subplots()\n",
    "knnc_importances.plot.bar(yerr=knnc_result.importances_std, ax=ax)\n",
    "ax.set_title(\"k-NN Feature Importance\")\n",
    "ax.set_ylabel(\"Mean accuracy decrease\")\n",
    "plt.show()"
   ]
  },
  {
   "cell_type": "code",
   "execution_count": 21,
   "id": "a18fe639",
   "metadata": {
    "execution": {
     "iopub.execute_input": "2023-01-06T14:38:16.378482Z",
     "iopub.status.busy": "2023-01-06T14:38:16.378043Z",
     "iopub.status.idle": "2023-01-06T14:38:16.747253Z",
     "shell.execute_reply": "2023-01-06T14:38:16.746137Z"
    },
    "papermill": {
     "duration": 0.386218,
     "end_time": "2023-01-06T14:38:16.749928",
     "exception": false,
     "start_time": "2023-01-06T14:38:16.363710",
     "status": "completed"
    },
    "tags": []
   },
   "outputs": [
    {
     "data": {
      "image/png": "[encoded data removed]",
      "text/plain": [
       "<Figure size 432x288 with 1 Axes>"
      ]
     },
     "metadata": {
      "needs_background": "light"
     },
     "output_type": "display_data"
    }
   ],
   "source": [
    "# Significant Columns for DTC\n",
    "dtc_result = permutation_importance(dtc, x_test, y_test)\n",
    "dtc_importances = pd.Series(dtc_result.importances_mean, index=list(x) )\n",
    "fig, ax = plt.subplots()\n",
    "dtc_importances.plot.bar(yerr=dtc_result.importances_std, ax=ax)\n",
    "ax.set_title(\"DTC Feature Importance\")\n",
    "ax.set_ylabel(\"Mean accuracy decrease\")\n",
    "plt.show()"
   ]
  },
  {
   "cell_type": "code",
   "execution_count": 22,
   "id": "aa9af295",
   "metadata": {
    "execution": {
     "iopub.execute_input": "2023-01-06T14:38:16.786321Z",
     "iopub.status.busy": "2023-01-06T14:38:16.785738Z",
     "iopub.status.idle": "2023-01-06T14:38:18.198104Z",
     "shell.execute_reply": "2023-01-06T14:38:18.196674Z"
    },
    "papermill": {
     "duration": 1.438164,
     "end_time": "2023-01-06T14:38:18.200606",
     "exception": false,
     "start_time": "2023-01-06T14:38:16.762442",
     "status": "completed"
    },
    "tags": []
   },
   "outputs": [
    {
     "data": {
      "image/png": "[encoded data removed]",
      "text/plain": [
       "<Figure size 432x288 with 1 Axes>"
      ]
     },
     "metadata": {
      "needs_background": "light"
     },
     "output_type": "display_data"
    }
   ],
   "source": [
    "# Significant Columns for ETC\n",
    "etc_result = permutation_importance(etc, x_test, y_test)\n",
    "etc_importances = pd.Series(etc_result.importances_mean, index=list(x))\n",
    "fig, ax = plt.subplots()\n",
    "etc_importances.plot.bar(yerr=etc_result.importances_std, ax=ax)\n",
    "ax.set_title(\"ETC Feature Importance\")\n",
    "ax.set_ylabel(\"Mean accuracy decrease\")\n",
    "plt.show()"
   ]
  }
 ],
 "metadata": {
  "kernelspec": {
   "display_name": "Python 3 (ipykernel)",
   "language": "python",
   "name": "python3"
  },
  "language_info": {
   "codemirror_mode": {
    "name": "ipython",
    "version": 3
   },
   "file_extension": ".py",
   "mimetype": "text/x-python",
   "name": "python",
   "nbconvert_exporter": "python",
   "pygments_lexer": "ipython3",
   "version": "3.11.1"
  },
  "papermill": {
   "default_parameters": {},
   "duration": 22.666995,
   "end_time": "2023-01-06T14:38:19.244334",
   "environment_variables": {},
   "exception": null,
   "input_path": "__notebook__.ipynb",
   "output_path": "__notebook__.ipynb",
   "parameters": {},
   "start_time": "2023-01-06T14:37:56.577339",
   "version": "2.3.4"
  }
 },
 "nbformat": 4,
 "nbformat_minor": 5
}
